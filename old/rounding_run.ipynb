{
 "cells": [
  {
   "cell_type": "code",
   "execution_count": 1,
   "metadata": {},
   "outputs": [],
   "source": [
    "import sys\n",
    "import traceback\n",
    "\n",
    "from rounding import rd\n",
    "from check_input import check_input"
   ]
  },
  {
   "cell_type": "code",
   "execution_count": 2,
   "metadata": {},
   "outputs": [],
   "source": [
    "def main(argv):\n",
    "    #print(argv)\n",
    "    \n",
    "    number_str, precision_str = None, None\n",
    "    \n",
    "    try:\n",
    "        number_str = argv[0]\n",
    "    except IndexError:\n",
    "        #traceback.print_exc()\n",
    "        pass\n",
    "    except Exception as e:\n",
    "        #traceback.print_exc()\n",
    "        pass\n",
    "\n",
    "    try:\n",
    "        precision_str = argv[1]\n",
    "    except IndexError:\n",
    "        #traceback.print_exc()\n",
    "        pass\n",
    "    except Exception as e:\n",
    "        #traceback.print_exc()\n",
    "        pass\n",
    "    \n",
    "    number, precision = None, None\n",
    "    \n",
    "    try:\n",
    "        number = float(number_str)\n",
    "        #print(number)\n",
    "    except Exception as e:\n",
    "        print('Usage: python -m main number, precision\\n')\n",
    "        print(\"Entering interactive mode.\\n\")\n",
    "        #traceback.print_exc()\n",
    "\n",
    "    try:\n",
    "        precision = int(precision_str)\n",
    "    except Exception as e:\n",
    "        if number is not None:\n",
    "            precision = 0\n",
    "            print('Precision not specified, using 0.\\n')\n",
    "        #traceback.print_exc()\n",
    "\n",
    "    if number is not None and precision is not None:\n",
    "        print(f'Rounding number {number} with precision {precision}: ' + rd(number, precision) + '\\n')\n",
    "        print(\"Entering interactive mode.\\n\")\n",
    "        answer = ''\n",
    "        while answer not in ['yes','no']:\n",
    "            answer = input(\"Do you want to continue? (yes, no):\\n\").lower()\n",
    "            answer = check_input(answer, ['yes','no'])\n",
    "        if answer != 'yes':\n",
    "            return None\n",
    "    \n",
    "    answer = 'yes'\n",
    "    \n",
    "    while answer == 'yes':\n",
    "        \n",
    "        number, precision = None, None\n",
    "        \n",
    "        while number is None:\n",
    "            number_str = input('Please enter a number to round (float or int):\\n')\n",
    "            try:\n",
    "                number = float(number_str)\n",
    "                print()\n",
    "                #print(number)\n",
    "            except Exception as e:\n",
    "                print('Please enter valid number\\n')\n",
    "                #traceback.print_exc()\n",
    "        \n",
    "        while precision is None:\n",
    "            precision_str = input('Please enter a precision(int):\\n')\n",
    "            try:\n",
    "                precision = int(precision_str)\n",
    "                print('')\n",
    "                #print(number)\n",
    "            except Exception as e:\n",
    "                precision = 0\n",
    "                print('Precision not specified, using 0.\\n')\n",
    "                #traceback.print_exc()\n",
    "        \n",
    "        if number is not None and precision is not None:\n",
    "            print(f'Rounding number {number} with precision {precision}: ' + rd(number, precision) + '\\n')\n",
    "            \n",
    "        answer = ''\n",
    "        while answer not in ['yes','no']:\n",
    "            answer = input(\"Do you want to continue? (yes, no):\\n\").lower()\n",
    "            answer = check_input(answer, ['yes','no'])"
   ]
  },
  {
   "cell_type": "code",
   "execution_count": 3,
   "metadata": {},
   "outputs": [
    {
     "name": "stdout",
     "output_type": "stream",
     "text": [
      "Usage: python -m main number, precision\n",
      "\n",
      "Entering interactive mode.\n",
      "\n",
      "Please enter a number to round (float or int):\n",
      "12\n",
      "\n",
      "Please enter a precision(int):\n",
      "4\n",
      "\n",
      "Rounding number 12.0 with precision 4: 12.0000\n",
      "\n",
      "Do you want to continue? (yes, no):\n",
      "n\n",
      "OK, you have chosen No.\n",
      "\n"
     ]
    }
   ],
   "source": [
    "if __name__ == '__main__':\n",
    "    main(sys.argv[1:])"
   ]
  },
  {
   "cell_type": "code",
   "execution_count": 4,
   "metadata": {},
   "outputs": [
    {
     "name": "stdout",
     "output_type": "stream",
     "text": [
      "Usage: python -m main number, precision\n",
      "\n",
      "Entering interactive mode.\n",
      "\n",
      "Please enter a number to round (float or int):\n",
      "12.5\n",
      "\n",
      "Please enter a precision(int):\n",
      "\n",
      "Precision not specified, using 0.\n",
      "\n",
      "Rounding number 12.5 with precision 0: 13\n",
      "\n",
      "Do you want to continue? (yes, no):\n",
      "n\n",
      "OK, you have chosen No.\n",
      "\n"
     ]
    }
   ],
   "source": [
    "if __name__ == '__main__':\n",
    "    #main(sys.argv[1:])\n",
    "    main([])"
   ]
  },
  {
   "cell_type": "code",
   "execution_count": 5,
   "metadata": {},
   "outputs": [
    {
     "name": "stdout",
     "output_type": "stream",
     "text": [
      "Precision not specified, using 0.\n",
      "\n",
      "Rounding number 120.5 with precision 0: 121\n",
      "\n",
      "Entering interactive mode.\n",
      "\n",
      "Do you want to continue? (yes, no):\n",
      "n\n",
      "OK, you have chosen No.\n",
      "\n"
     ]
    }
   ],
   "source": [
    "if __name__ == '__main__':\n",
    "    #main(sys.argv[1:])\n",
    "    main([120.5])"
   ]
  },
  {
   "cell_type": "code",
   "execution_count": 6,
   "metadata": {},
   "outputs": [
    {
     "name": "stdout",
     "output_type": "stream",
     "text": [
      "Rounding number 120.55 with precision 1: 120.6\n",
      "\n",
      "Entering interactive mode.\n",
      "\n",
      "Do you want to continue? (yes, no):\n",
      "n\n",
      "OK, you have chosen No.\n",
      "\n"
     ]
    }
   ],
   "source": [
    "if __name__ == '__main__':\n",
    "    #main(sys.argv[1:])\n",
    "    main([120.55, 1])"
   ]
  },
  {
   "cell_type": "code",
   "execution_count": null,
   "metadata": {},
   "outputs": [],
   "source": []
  }
 ],
 "metadata": {
  "kernelspec": {
   "display_name": "Python 3",
   "language": "python",
   "name": "python3"
  },
  "language_info": {
   "codemirror_mode": {
    "name": "ipython",
    "version": 3
   },
   "file_extension": ".py",
   "mimetype": "text/x-python",
   "name": "python",
   "nbconvert_exporter": "python",
   "pygments_lexer": "ipython3",
   "version": "3.8.6"
  }
 },
 "nbformat": 4,
 "nbformat_minor": 4
}
