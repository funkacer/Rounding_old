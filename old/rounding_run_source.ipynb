{
 "cells": [
  {
   "cell_type": "code",
   "execution_count": 6,
   "metadata": {},
   "outputs": [],
   "source": [
    "import sys\n",
    "import traceback"
   ]
  },
  {
   "cell_type": "code",
   "execution_count": 7,
   "metadata": {},
   "outputs": [],
   "source": [
    "def rd(number: float, precision: int = 0) -> str:\n",
    "    '''\n",
    "    Returns rounded string with defined precicion.\n",
    "    \n",
    "    INPUT:\n",
    "    number: float, to be rounded\n",
    "    precision: int, precision used whe rounding\n",
    "    \n",
    "    OUTPUT:\n",
    "    round_str: str\n",
    "    '''\n",
    "    fin = 1\n",
    "    if number < 0: fin = -1      \n",
    "    number1 = number*10**(precision)\n",
    "    if abs(number1 - int(number1)) >= .5:\n",
    "        number1 += fin\n",
    "    round_float = int(number1)/10**(precision)\n",
    "    round_str = '{num:.{prec}f}'.format(num=round_float,prec=precision)\n",
    "    return round_str"
   ]
  },
  {
   "cell_type": "code",
   "execution_count": 8,
   "metadata": {},
   "outputs": [
    {
     "name": "stdout",
     "output_type": "stream",
     "text": [
      "Usage: python -m main number, precision\n"
     ]
    },
    {
     "name": "stderr",
     "output_type": "stream",
     "text": [
      "Traceback (most recent call last):\n",
      "  File \"<ipython-input-8-ebb5d0cab6c6>\", line 4, in main\n",
      "    number = float(argv[0])\n",
      "ValueError: could not convert string to float: '-f'\n"
     ]
    }
   ],
   "source": [
    "def main(argv):\n",
    "    #print(argv)\n",
    "    try:\n",
    "        number = float(argv[0])\n",
    "        #print(number)\n",
    "    except IndexError:\n",
    "        print('Usage: python -m main number, precision')\n",
    "        return None\n",
    "    except Exception as e:\n",
    "        traceback.print_exc()\n",
    "        print('Usage: python -m main number, precision')\n",
    "        return None\n",
    "\n",
    "    try:\n",
    "        precision = int(argv[1])\n",
    "    except IndexError:\n",
    "        precision = 0\n",
    "        print('Precision not specified, using 0')\n",
    "    except Exception as e:\n",
    "        traceback.print_exc()\n",
    "        print('Usage: python -m main number, precision')\n",
    "        return None\n",
    "\n",
    "    print(f'Rounding number {number} with precision {precision}:', rd(number, precision))\n",
    "\n",
    "if __name__ == '__main__':\n",
    "    main(sys.argv[1:])\n"
   ]
  },
  {
   "cell_type": "code",
   "execution_count": 14,
   "metadata": {},
   "outputs": [
    {
     "name": "stdout",
     "output_type": "stream",
     "text": [
      "Precision not specified, using 0\n",
      "Rounding number 120.5 with precision 0: 121\n"
     ]
    }
   ],
   "source": [
    "if __name__ == '__main__':\n",
    "    #main(sys.argv[1:])\n",
    "    main([120.5])"
   ]
  },
  {
   "cell_type": "code",
   "execution_count": null,
   "metadata": {},
   "outputs": [],
   "source": []
  }
 ],
 "metadata": {
  "kernelspec": {
   "display_name": "Python 3",
   "language": "python",
   "name": "python3"
  },
  "language_info": {
   "codemirror_mode": {
    "name": "ipython",
    "version": 3
   },
   "file_extension": ".py",
   "mimetype": "text/x-python",
   "name": "python",
   "nbconvert_exporter": "python",
   "pygments_lexer": "ipython3",
   "version": "3.8.6"
  }
 },
 "nbformat": 4,
 "nbformat_minor": 4
}
