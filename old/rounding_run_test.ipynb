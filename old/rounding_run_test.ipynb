{
 "cells": [
  {
   "cell_type": "code",
   "execution_count": 13,
   "metadata": {},
   "outputs": [],
   "source": [
    "from src._rounding import rd"
   ]
  },
  {
   "cell_type": "code",
   "execution_count": 14,
   "metadata": {},
   "outputs": [
    {
     "data": {
      "text/plain": [
       "-11.146"
      ]
     },
     "execution_count": 14,
     "metadata": {},
     "output_type": "execute_result"
    }
   ],
   "source": [
    "float(rd(-11.1455, 3))"
   ]
  },
  {
   "cell_type": "code",
   "execution_count": 15,
   "metadata": {},
   "outputs": [
    {
     "name": "stdout",
     "output_type": "stream",
     "text": [
      "\n",
      "    Returns rounded string with defined precicion.\n",
      "    \n",
      "    INPUT:\n",
      "    number: float, to be rounded\n",
      "    precision: int, precision used whe rounding\n",
      "    \n",
      "    OUTPUT:\n",
      "    round_str: str\n",
      "    \n"
     ]
    }
   ],
   "source": [
    "print(rd.__doc__)"
   ]
  },
  {
   "cell_type": "code",
   "execution_count": 16,
   "metadata": {},
   "outputs": [],
   "source": [
    "inputs = [-2.5, -1.5, -0.5, 0, 0.5, 1.5, 2.5]\n",
    "results_python = [-2.0, -2.0, 0, 0, 0, 2.0, 2.0]\n",
    "results_rd = [-3.0, -2.0, -1.0, 0.0, 1.0, 2.0, 3.0]"
   ]
  },
  {
   "cell_type": "code",
   "execution_count": 17,
   "metadata": {},
   "outputs": [],
   "source": [
    "for i, number in enumerate(inputs):\n",
    "    rnumber = round(number)\n",
    "    assert round(number) == results_python[i], f'Number {rnumber} not equal to {results_python[i]}'"
   ]
  },
  {
   "cell_type": "code",
   "execution_count": 18,
   "metadata": {},
   "outputs": [],
   "source": [
    "for i, number in enumerate(inputs):\n",
    "    rnumber = float(rd(number))\n",
    "    assert rnumber == results_rd[i], f'Number {rnumber} not equal to {results_rd[i]}'"
   ]
  },
  {
   "cell_type": "code",
   "execution_count": 19,
   "metadata": {},
   "outputs": [
    {
     "name": "stdout",
     "output_type": "stream",
     "text": [
      "Error in reading more values: []\n",
      "Reading completed.\n",
      "Number 66.34189842, precision 0, excel_result 66.0, float(rd_result) 66.0, rd_result 66\n",
      "Number 38.15132711, precision 0, excel_result 38.0, float(rd_result) 38.0, rd_result 38\n",
      "Number -48.19796704, precision 0, excel_result -48.0, float(rd_result) -48.0, rd_result -48\n",
      "Number -96.41723101, precision 0, excel_result -96.0, float(rd_result) -96.0, rd_result -96\n",
      "Number -54.74978397, precision 0, excel_result -55.0, float(rd_result) -55.0, rd_result -55\n",
      "Number 45.20206872, precision 0, excel_result 45.0, float(rd_result) 45.0, rd_result 45\n",
      "Number 66.67510482, precision 0, excel_result 67.0, float(rd_result) 67.0, rd_result 67\n",
      "Number -37.69107352, precision 0, excel_result -38.0, float(rd_result) -38.0, rd_result -38\n",
      "Number 86.39471088, precision 0, excel_result 86.0, float(rd_result) 86.0, rd_result 86\n",
      "Number 64.07815336, precision 0, excel_result 64.0, float(rd_result) 64.0, rd_result 64\n",
      "Number 0.237804701, precision 0, excel_result 0.0, float(rd_result) 0.0, rd_result 0\n",
      "Number -31.0271507, precision 0, excel_result -31.0, float(rd_result) -31.0, rd_result -31\n",
      "Number 94.6576568, precision 0, excel_result 95.0, float(rd_result) 95.0, rd_result 95\n",
      "Number -98.68337689, precision 0, excel_result -99.0, float(rd_result) -99.0, rd_result -99\n",
      "Number -38.83397149, precision 0, excel_result -39.0, float(rd_result) -39.0, rd_result -39\n",
      "Number -8.471977678, precision 0, excel_result -8.0, float(rd_result) -8.0, rd_result -8\n",
      "Number 84.04433293, precision 0, excel_result 84.0, float(rd_result) 84.0, rd_result 84\n",
      "Number 6.531495267, precision 0, excel_result 7.0, float(rd_result) 7.0, rd_result 7\n",
      "Number 99.3648195, precision 0, excel_result 99.0, float(rd_result) 99.0, rd_result 99\n",
      "Number 50.78552469, precision 1, excel_result 50.8, float(rd_result) 50.8, rd_result 50.8\n",
      "Number 66.16536932, precision 1, excel_result 66.2, float(rd_result) 66.2, rd_result 66.2\n",
      "Number -47.58518126, precision 1, excel_result -47.6, float(rd_result) -47.6, rd_result -47.6\n",
      "Number -11.13295595, precision 1, excel_result -11.1, float(rd_result) -11.1, rd_result -11.1\n",
      "Number 68.6209035, precision 1, excel_result 68.6, float(rd_result) 68.6, rd_result 68.6\n",
      "Number 33.9091592, precision 1, excel_result 33.9, float(rd_result) 33.9, rd_result 33.9\n",
      "Number 53.23737631, precision 1, excel_result 53.2, float(rd_result) 53.2, rd_result 53.2\n",
      "Number -10.42123458, precision 1, excel_result -10.4, float(rd_result) -10.4, rd_result -10.4\n",
      "Number -24.33894267, precision 1, excel_result -24.3, float(rd_result) -24.3, rd_result -24.3\n",
      "Number -97.28206034, precision 1, excel_result -97.3, float(rd_result) -97.3, rd_result -97.3\n",
      "Number 92.17351879, precision 1, excel_result 92.2, float(rd_result) 92.2, rd_result 92.2\n",
      "Number -5.415513131, precision 1, excel_result -5.4, float(rd_result) -5.4, rd_result -5.4\n",
      "Number -50.62838104, precision 1, excel_result -50.6, float(rd_result) -50.6, rd_result -50.6\n",
      "Number 80.71197251, precision 1, excel_result 80.7, float(rd_result) 80.7, rd_result 80.7\n",
      "Number -58.06922781, precision 1, excel_result -58.1, float(rd_result) -58.1, rd_result -58.1\n",
      "Number -66.25820118, precision 1, excel_result -66.3, float(rd_result) -66.3, rd_result -66.3\n",
      "Number 4.627738088, precision 1, excel_result 4.6, float(rd_result) 4.6, rd_result 4.6\n",
      "Number 14.17078258, precision 1, excel_result 14.2, float(rd_result) 14.2, rd_result 14.2\n",
      "Number 4.90415161, precision 1, excel_result 4.9, float(rd_result) 4.9, rd_result 4.9\n",
      "Number 23.11599608, precision 1, excel_result 23.1, float(rd_result) 23.1, rd_result 23.1\n",
      "Number -71.10222191, precision 2, excel_result -71.1, float(rd_result) -71.1, rd_result -71.10\n",
      "Number 67.89016062, precision 2, excel_result 67.89, float(rd_result) 67.89, rd_result 67.89\n",
      "Number -45.45995744, precision 2, excel_result -45.46, float(rd_result) -45.46, rd_result -45.46\n",
      "Number 9.939238194, precision 2, excel_result 9.94, float(rd_result) 9.94, rd_result 9.94\n",
      "Number -6.977176378, precision 2, excel_result -6.98, float(rd_result) -6.98, rd_result -6.98\n",
      "Number -62.89293586, precision 2, excel_result -62.89, float(rd_result) -62.89, rd_result -62.89\n",
      "Number 68.44564772, precision 2, excel_result 68.45, float(rd_result) 68.45, rd_result 68.45\n",
      "Number 72.5994155, precision 2, excel_result 72.6, float(rd_result) 72.6, rd_result 72.60\n",
      "Number 71.23532531, precision 2, excel_result 71.24, float(rd_result) 71.24, rd_result 71.24\n",
      "Number -44.03458036, precision 2, excel_result -44.03, float(rd_result) -44.03, rd_result -44.03\n",
      "Number 94.23062862, precision 2, excel_result 94.23, float(rd_result) 94.23, rd_result 94.23\n",
      "Number -63.97792041, precision 2, excel_result -63.98, float(rd_result) -63.98, rd_result -63.98\n",
      "Number -34.97262096, precision 2, excel_result -34.97, float(rd_result) -34.97, rd_result -34.97\n",
      "Number -56.55852601, precision 2, excel_result -56.56, float(rd_result) -56.56, rd_result -56.56\n",
      "Number -22.63813281, precision 2, excel_result -22.64, float(rd_result) -22.64, rd_result -22.64\n",
      "Number 55.43741788, precision 2, excel_result 55.44, float(rd_result) 55.44, rd_result 55.44\n",
      "Number -77.69705851, precision 2, excel_result -77.7, float(rd_result) -77.7, rd_result -77.70\n",
      "Number -55.57828578, precision 2, excel_result -55.58, float(rd_result) -55.58, rd_result -55.58\n",
      "Number -77.56720445, precision 2, excel_result -77.57, float(rd_result) -77.57, rd_result -77.57\n",
      "Number 36.45911853, precision 2, excel_result 36.46, float(rd_result) 36.46, rd_result 36.46\n",
      "Number -75.61223755, precision 3, excel_result -75.612, float(rd_result) -75.612, rd_result -75.612\n",
      "Number -7.220757561, precision 3, excel_result -7.221, float(rd_result) -7.221, rd_result -7.221\n",
      "Number 85.79387639, precision 3, excel_result 85.794, float(rd_result) 85.794, rd_result 85.794\n",
      "Number 89.46156488, precision 3, excel_result 89.462, float(rd_result) 89.462, rd_result 89.462\n",
      "Number -44.08586595, precision 3, excel_result -44.086, float(rd_result) -44.086, rd_result -44.086\n",
      "Number -50.69470947, precision 3, excel_result -50.695, float(rd_result) -50.695, rd_result -50.695\n",
      "Number 15.39419137, precision 3, excel_result 15.394, float(rd_result) 15.394, rd_result 15.394\n",
      "Number -52.130995, precision 3, excel_result -52.131, float(rd_result) -52.131, rd_result -52.131\n",
      "Number -21.26488335, precision 3, excel_result -21.265, float(rd_result) -21.265, rd_result -21.265\n",
      "Number -11.59191746, precision 3, excel_result -11.592, float(rd_result) -11.592, rd_result -11.592\n",
      "Number 50.3281231, precision 3, excel_result 50.328, float(rd_result) 50.328, rd_result 50.328\n",
      "Number 41.41347146, precision 3, excel_result 41.413, float(rd_result) 41.413, rd_result 41.413\n",
      "Number -3.716333141, precision 3, excel_result -3.716, float(rd_result) -3.716, rd_result -3.716\n",
      "Number -6.015699337, precision 3, excel_result -6.016, float(rd_result) -6.016, rd_result -6.016\n",
      "Number -28.82652737, precision 3, excel_result -28.827, float(rd_result) -28.827, rd_result -28.827\n",
      "Number 73.52632692, precision 3, excel_result 73.526, float(rd_result) 73.526, rd_result 73.526\n",
      "Number 46.71641713, precision 3, excel_result 46.716, float(rd_result) 46.716, rd_result 46.716\n",
      "Number 82.92397665, precision 3, excel_result 82.924, float(rd_result) 82.924, rd_result 82.924\n",
      "Number 4.907113648, precision 3, excel_result 4.907, float(rd_result) 4.907, rd_result 4.907\n",
      "Number 93.79890662, precision 4, excel_result 93.7989, float(rd_result) 93.7989, rd_result 93.7989\n",
      "Number -1.61306114, precision 4, excel_result -1.6131, float(rd_result) -1.6131, rd_result -1.6131\n",
      "Number -62.86400179, precision 4, excel_result -62.864, float(rd_result) -62.864, rd_result -62.8640\n",
      "Number 92.51535452, precision 4, excel_result 92.5154, float(rd_result) 92.5154, rd_result 92.5154\n",
      "Number -59.31945392, precision 4, excel_result -59.3195, float(rd_result) -59.3195, rd_result -59.3195\n",
      "Number -67.77488146, precision 4, excel_result -67.7749, float(rd_result) -67.7749, rd_result -67.7749\n",
      "Number -37.36944742, precision 4, excel_result -37.3694, float(rd_result) -37.3694, rd_result -37.3694\n",
      "Number -76.29337713, precision 4, excel_result -76.2934, float(rd_result) -76.2934, rd_result -76.2934\n",
      "Number 94.22837414, precision 4, excel_result 94.2284, float(rd_result) 94.2284, rd_result 94.2284\n",
      "Number 19.71017688, precision 4, excel_result 19.7102, float(rd_result) 19.7102, rd_result 19.7102\n",
      "Number 4.722492657, precision 4, excel_result 4.7225, float(rd_result) 4.7225, rd_result 4.7225\n",
      "Number -72.90113768, precision 4, excel_result -72.9011, float(rd_result) -72.9011, rd_result -72.9011\n",
      "Number 4.636398159, precision 4, excel_result 4.6364, float(rd_result) 4.6364, rd_result 4.6364\n",
      "Number 1.414614249, precision 4, excel_result 1.4146, float(rd_result) 1.4146, rd_result 1.4146\n",
      "Number -65.77184504, precision 4, excel_result -65.7718, float(rd_result) -65.7718, rd_result -65.7718\n",
      "Number 3.63202017, precision 4, excel_result 3.632, float(rd_result) 3.632, rd_result 3.6320\n",
      "Number -13.19068991, precision 4, excel_result -13.1907, float(rd_result) -13.1907, rd_result -13.1907\n",
      "Number -78.1626814, precision 4, excel_result -78.1627, float(rd_result) -78.1627, rd_result -78.1627\n",
      "Number 18.73631112, precision 4, excel_result 18.7363, float(rd_result) 18.7363, rd_result 18.7363\n",
      "Number 79.6895283, precision 4, excel_result 79.6895, float(rd_result) 79.6895, rd_result 79.6895\n",
      "Number -79.3892692, precision 4, excel_result -79.3893, float(rd_result) -79.3893, rd_result -79.3893\n",
      "Number -79.49529491, precision 4, excel_result -79.4953, float(rd_result) -79.4953, rd_result -79.4953\n",
      "Assert of 100 values completed.\n"
     ]
    }
   ],
   "source": [
    "with open ('test/Known_result.tst', 'r') as f:\n",
    "    dic = {}\n",
    "    columns = f.readline().split()\n",
    "    for col in columns:\n",
    "        dic[col] = []\n",
    "    while True:\n",
    "        try:\n",
    "            values = f.readline().split()\n",
    "            assert len(columns) == len(values), print('Error in reading more values: {}'.format(values))\n",
    "            for i, col in enumerate(columns):\n",
    "                dic[col].append(values[i])\n",
    "        except:\n",
    "            print('Reading completed.')\n",
    "            break\n",
    "\n",
    "for number, precision, result in zip(*[value for value in dic.values()]):\n",
    "    try:\n",
    "        number, precision, result = float(number), int(precision), float(result)\n",
    "    except:\n",
    "        pass\n",
    "    print('Number {}, precision {}, excel_result {}, float(rd_result) {}, rd_result {}'.format(number,precision,result, float(rd(number, precision)), rd(number, precision)))\n",
    "    assert result == float(rd(number, precision))\n",
    "\n",
    "print('Assert of {} values completed.'.format(len(list(zip(*[value for value in dic.values()])))))"
   ]
  },
  {
   "cell_type": "code",
   "execution_count": 20,
   "metadata": {},
   "outputs": [
    {
     "name": "stdout",
     "output_type": "stream",
     "text": [
      "12\n"
     ]
    }
   ],
   "source": [
    "print(rd(11.59))"
   ]
  },
  {
   "cell_type": "code",
   "execution_count": 21,
   "metadata": {},
   "outputs": [
    {
     "name": "stdout",
     "output_type": "stream",
     "text": [
      "11.6\n"
     ]
    }
   ],
   "source": [
    "print(rd(11.59,1))"
   ]
  },
  {
   "cell_type": "code",
   "execution_count": 22,
   "metadata": {},
   "outputs": [
    {
     "name": "stdout",
     "output_type": "stream",
     "text": [
      "12.0\n"
     ]
    }
   ],
   "source": [
    "print(float(rd(11.59)))"
   ]
  },
  {
   "cell_type": "code",
   "execution_count": 23,
   "metadata": {},
   "outputs": [
    {
     "name": "stdout",
     "output_type": "stream",
     "text": [
      "12\n"
     ]
    }
   ],
   "source": [
    "print(int(rd(11.59)))"
   ]
  },
  {
   "cell_type": "code",
   "execution_count": 24,
   "metadata": {},
   "outputs": [
    {
     "name": "stdout",
     "output_type": "stream",
     "text": [
      "0\n"
     ]
    }
   ],
   "source": [
    "print(rd(-0.2))"
   ]
  },
  {
   "cell_type": "code",
   "execution_count": 26,
   "metadata": {},
   "outputs": [],
   "source": [
    "def rdv(x,y=0):\n",
    "    ''' A classical mathematical rounding by Voznica '''\n",
    "    try:\n",
    "        fin = 1\n",
    "        if x < 0: fin = -1\n",
    "        m = int('1'+'0'*y) # multiplier - how many positions to the right\n",
    "        q = abs(x)*m # shift to the right by multiplier\n",
    "        c = int(q) # new number\n",
    "        i = int( (q-c)*10 ) # indicator number on the right\n",
    "        if i >= 5:\n",
    "            c += 1\n",
    "        c *= fin\n",
    "        result = '{num:.{prec}f}'.format(num=c/m,prec=y)\n",
    "    except:\n",
    "        result = ''\n",
    "    return result"
   ]
  },
  {
   "cell_type": "code",
   "execution_count": 35,
   "metadata": {},
   "outputs": [
    {
     "name": "stdout",
     "output_type": "stream",
     "text": [
      "Number -0.06744034105052332, precision 0, float(rd_result) 0.0, rd_result 0, rdv_result 0\n",
      "Number -0.038130566752583306, precision 0, float(rd_result) 0.0, rd_result 0, rdv_result 0\n",
      "Number 2.7544778469459583, precision 2, float(rd_result) 2.75, rd_result 2.75, rdv_result 2.75\n"
     ]
    }
   ],
   "source": [
    "import numpy as np\n",
    "result = 0\n",
    "while result == 0:\n",
    "    for i in range(1000):\n",
    "        a = np.random.random()*10 - 5\n",
    "        b = np.random.randint(0,3)\n",
    "        c = rd(a,b)\n",
    "        #print('Number {}, precision {}, float(rd_result) {}, rd_result {}, rv_result {}'.format(a ,b ,float(rd(a, b)), rd(a, b), rdv(a, b)))\n",
    "        assert rd(a, b) == rdv(a, b), print(a, b, rd(a, b), rdv(a, b))\n",
    "        if abs(a) < 0.1 and a < 0 and b == 0:\n",
    "            print('Number {}, precision {}, float(rd_result) {}, rd_result {}, rdv_result {}'.format(a, b ,float(rd(a, b)), rd(a, b), rdv(a, b)))\n",
    "            result=1\n",
    "\n",
    "print('Number {}, precision {}, float(rd_result) {}, rd_result {}, rdv_result {}'.format(a, b ,float(rd(a, b)), rd(a, b), rdv(a, b)))"
   ]
  },
  {
   "cell_type": "code",
   "execution_count": null,
   "metadata": {},
   "outputs": [],
   "source": []
  }
 ],
 "metadata": {
  "kernelspec": {
   "display_name": "Python 3",
   "language": "python",
   "name": "python3"
  },
  "language_info": {
   "codemirror_mode": {
    "name": "ipython",
    "version": 3
   },
   "file_extension": ".py",
   "mimetype": "text/x-python",
   "name": "python",
   "nbconvert_exporter": "python",
   "pygments_lexer": "ipython3",
   "version": "3.8.6"
  }
 },
 "nbformat": 4,
 "nbformat_minor": 4
}
